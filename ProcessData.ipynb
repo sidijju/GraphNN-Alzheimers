{
  "nbformat": 4,
  "nbformat_minor": 0,
  "metadata": {
    "colab": {
      "name": "ProcessData.ipynb",
      "provenance": []
    },
    "kernelspec": {
      "name": "python3",
      "display_name": "Python 3"
    },
    "accelerator": "GPU"
  },
  "cells": [
    {
      "cell_type": "code",
      "metadata": {
        "id": "ywcKUzqCEV9q",
        "colab_type": "code",
        "colab": {
          "base_uri": "https://localhost:8080/",
          "height": 462
        },
        "outputId": "7459b204-d0ea-4996-b95a-e8be1f056ddd"
      },
      "source": [
        "!pip install dipy\n",
        "!pip install fury"
      ],
      "execution_count": 1,
      "outputs": [
        {
          "output_type": "stream",
          "text": [
            "Collecting dipy\n",
            "\u001b[?25l  Downloading https://files.pythonhosted.org/packages/a6/0f/5375dd99c4d933f75d53049980dd737fae408bfe595b6bc06d9fceaf4435/dipy-1.1.1-cp36-cp36m-manylinux1_x86_64.whl (8.1MB)\n",
            "\u001b[K     |████████████████████████████████| 8.1MB 3.5MB/s \n",
            "\u001b[?25hRequirement already satisfied: scipy>=1.0 in /usr/local/lib/python3.6/dist-packages (from dipy) (1.4.1)\n",
            "Requirement already satisfied: h5py>=2.4.0 in /usr/local/lib/python3.6/dist-packages (from dipy) (2.8.0)\n",
            "Collecting nibabel>=3.0.0\n",
            "\u001b[?25l  Downloading https://files.pythonhosted.org/packages/0d/fc/2efb2a7c5d117c761b72f6bc00bf057294e9ccdf0a737957c65fa89ecc6f/nibabel-3.0.0-py3-none-any.whl (3.3MB)\n",
            "\u001b[K     |████████████████████████████████| 3.3MB 47.3MB/s \n",
            "\u001b[?25hRequirement already satisfied: numpy>=1.13.3 in /usr/local/lib/python3.6/dist-packages (from scipy>=1.0->dipy) (1.17.5)\n",
            "Requirement already satisfied: six in /usr/local/lib/python3.6/dist-packages (from h5py>=2.4.0->dipy) (1.12.0)\n",
            "Installing collected packages: nibabel, dipy\n",
            "  Found existing installation: nibabel 2.3.3\n",
            "    Uninstalling nibabel-2.3.3:\n",
            "      Successfully uninstalled nibabel-2.3.3\n",
            "Successfully installed dipy-1.1.1 nibabel-3.0.0\n",
            "Collecting fury\n",
            "\u001b[?25l  Downloading https://files.pythonhosted.org/packages/14/f9/6318739e4c9ef5ca4739d31350388ef8b40f3af4caa2598801579b0ca9b8/fury-0.4.0-py3-none-any.whl (150kB)\n",
            "\u001b[K     |████████████████████████████████| 153kB 3.4MB/s \n",
            "\u001b[?25hRequirement already satisfied: scipy>=0.9 in /usr/local/lib/python3.6/dist-packages (from fury) (1.4.1)\n",
            "Collecting vtk>=8.1.0\n",
            "\u001b[?25l  Downloading https://files.pythonhosted.org/packages/22/f5/30e11e1ad21701e1cd185b046979107930419a74a5602c6b899dc8523fe4/vtk-8.1.2-cp36-cp36m-manylinux1_x86_64.whl (48.9MB)\n",
            "\u001b[K     |████████████████████████████████| 48.9MB 62kB/s \n",
            "\u001b[?25hRequirement already satisfied: numpy>=1.7.1 in /usr/local/lib/python3.6/dist-packages (from fury) (1.17.5)\n",
            "Installing collected packages: vtk, fury\n",
            "Successfully installed fury-0.4.0 vtk-8.1.2\n"
          ],
          "name": "stdout"
        }
      ]
    },
    {
      "cell_type": "code",
      "metadata": {
        "id": "pKy9Bdo6FPzm",
        "colab_type": "code",
        "colab": {
          "base_uri": "https://localhost:8080/",
          "height": 34
        },
        "outputId": "319f05b7-17d5-4f1d-8a34-82dc801e6bbd"
      },
      "source": [
        "import numpy as np\n",
        "import matplotlib.pyplot as plt\n",
        "from scipy.ndimage.morphology import binary_dilation\n",
        "\n",
        "from dipy.viz import window, actor, colormap as cmap\n",
        "from dipy.core.gradients import gradient_table\n",
        "from dipy.data import get_fnames\n",
        "from dipy.io.gradients import read_bvals_bvecs\n",
        "from dipy.io.image import load_nifti_data, load_nifti, save_nifti\n",
        "from dipy.direction import peaks\n",
        "from dipy.reconst import shm\n",
        "from dipy.tracking import utils\n",
        "from dipy.tracking.local_tracking import LocalTracking\n",
        "from dipy.tracking.stopping_criterion import BinaryStoppingCriterion\n",
        "from dipy.tracking.streamline import Streamlines\n",
        "\n",
        "\n",
        "hardi_fname, hardi_bval_fname, hardi_bvec_fname = get_fnames('stanford_hardi')\n",
        "label_fname = get_fnames('stanford_labels')\n",
        "t1_fname = get_fnames('stanford_t1')\n",
        "\n",
        "data, affine, hardi_img = load_nifti(hardi_fname, return_img=True)\n",
        "labels = load_nifti_data(label_fname)\n",
        "t1_data = load_nifti_data(t1_fname)\n",
        "bvals, bvecs = read_bvals_bvecs(hardi_bval_fname, hardi_bvec_fname)\n",
        "gtab = gradient_table(bvals, bvecs)"
      ],
      "execution_count": 2,
      "outputs": [
        {
          "output_type": "stream",
          "text": [
            "Download Progress: [########################################] 100.00%  of 1.10 MB"
          ],
          "name": "stdout"
        }
      ]
    },
    {
      "cell_type": "code",
      "metadata": {
        "id": "2SXsFstiEJ1h",
        "colab_type": "code",
        "colab": {}
      },
      "source": [
        "white_matter = binary_dilation((labels == 1) | (labels == 2))\n",
        "csamodel = shm.CsaOdfModel(gtab, 6)\n",
        "csapeaks = peaks.peaks_from_model(model=csamodel,\n",
        "                                  data=data,\n",
        "                                  sphere=peaks.default_sphere,\n",
        "                                  relative_peak_threshold=.8,\n",
        "                                  min_separation_angle=45,\n",
        "                                  mask=white_matter)"
      ],
      "execution_count": 0,
      "outputs": []
    },
    {
      "cell_type": "code",
      "metadata": {
        "id": "RKUGd8G9EN35",
        "colab_type": "code",
        "colab": {}
      },
      "source": [
        "affine = np.eye(4)\n",
        "seeds = utils.seeds_from_mask(white_matter, affine, density=1)\n",
        "stopping_criterion = BinaryStoppingCriterion(white_matter)\n",
        "\n",
        "streamline_generator = LocalTracking(csapeaks, stopping_criterion, seeds,\n",
        "                                     affine=affine, step_size=0.5)\n",
        "streamlines = Streamlines(streamline_generator)"
      ],
      "execution_count": 0,
      "outputs": []
    },
    {
      "cell_type": "code",
      "metadata": {
        "id": "vOtDj5LmEQoR",
        "colab_type": "code",
        "colab": {}
      },
      "source": [
        "cc_slice = labels == 2\n",
        "cc_streamlines = utils.target(streamlines, affine, cc_slice)\n",
        "cc_streamlines = Streamlines(cc_streamlines)\n",
        "\n",
        "other_streamlines = utils.target(streamlines, affine, cc_slice,\n",
        "                                 include=False)\n",
        "other_streamlines = Streamlines(other_streamlines)\n",
        "assert len(other_streamlines) + len(cc_streamlines) == len(streamlines)"
      ],
      "execution_count": 0,
      "outputs": []
    },
    {
      "cell_type": "code",
      "metadata": {
        "id": "AYbd16JnETXu",
        "colab_type": "code",
        "colab": {}
      },
      "source": [
        "\n",
        "# Enables/disables interactive visualization\n",
        "interactive = True\n",
        "\n",
        "# Make display objects\n",
        "color = cmap.line_colors(cc_streamlines)\n",
        "cc_streamlines_actor = actor.line(cc_streamlines,\n",
        "                                  cmap.line_colors(cc_streamlines))\n",
        "cc_ROI_actor = actor.contour_from_roi(cc_slice, color=(1., 1., 0.),\n",
        "                                      opacity=0.5)\n",
        "\n",
        "vol_actor = actor.slicer(t1_data)\n",
        "\n",
        "vol_actor.display(x=40)\n",
        "vol_actor2 = vol_actor.copy()\n",
        "vol_actor2.display(z=35)\n",
        "\n",
        "# Add display objects to canvas\n",
        "r = window.Renderer()\n",
        "r.add(vol_actor)\n",
        "r.add(vol_actor2)\n",
        "r.add(cc_streamlines_actor)\n",
        "r.add(cc_ROI_actor)\n",
        "\n",
        "# Save figures\n",
        "window.record(r, n_frames=1, out_path='corpuscallosum_axial.png',\n",
        "              size=(800, 800))\n",
        "if interactive:\n",
        "    window.show(r)\n",
        "r.set_camera(position=[-1, 0, 0], focal_point=[0, 0, 0], view_up=[0, 0, 1])\n",
        "window.record(r, n_frames=1, out_path='corpuscallosum_sagittal.png',\n",
        "              size=(800, 800))\n",
        "if interactive:\n",
        "    window.show(r)"
      ],
      "execution_count": 0,
      "outputs": []
    },
    {
      "cell_type": "code",
      "metadata": {
        "id": "RZ6IwolaEeR9",
        "colab_type": "code",
        "colab": {}
      },
      "source": [
        "M, grouping = utils.connectivity_matrix(cc_streamlines, affine,\n",
        "                                        labels.astype(np.uint8),\n",
        "                                        return_mapping=True,\n",
        "                                        mapping_as_streamlines=True)\n",
        "M[:3, :] = 0\n",
        "M[:, :3] = 0\n",
        "\n",
        "plt.imshow(np.log1p(M), interpolation='nearest')\n",
        "plt.savefig(\"connectivity.png\")"
      ],
      "execution_count": 0,
      "outputs": []
    },
    {
      "cell_type": "code",
      "metadata": {
        "id": "7BAUgQPTF-Vx",
        "colab_type": "code",
        "colab": {}
      },
      "source": [
        ""
      ],
      "execution_count": 0,
      "outputs": []
    }
  ]
}